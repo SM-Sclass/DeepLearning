{
  "cells": [
    {
      "cell_type": "markdown",
      "metadata": {
        "id": "view-in-github",
        "colab_type": "text"
      },
      "source": [
        "<a href=\"https://colab.research.google.com/github/SM-Sclass/DeepLearning/blob/main/Spacy.ipynb\" target=\"_parent\"><img src=\"https://colab.research.google.com/assets/colab-badge.svg\" alt=\"Open In Colab\"/></a>"
      ]
    },
    {
      "cell_type": "code",
      "execution_count": 1,
      "id": "e39d8a58-88e4-48d8-8493-06c881c1a56b",
      "metadata": {
        "id": "e39d8a58-88e4-48d8-8493-06c881c1a56b"
      },
      "outputs": [],
      "source": [
        "import spacy"
      ]
    },
    {
      "cell_type": "code",
      "execution_count": 2,
      "id": "fc8a2df7-22f9-4c43-979b-372219b82373",
      "metadata": {
        "colab": {
          "base_uri": "https://localhost:8080/"
        },
        "id": "fc8a2df7-22f9-4c43-979b-372219b82373",
        "outputId": "6a4f962a-2db3-4f26-d07a-707e9d10fd6b"
      },
      "outputs": [
        {
          "output_type": "execute_result",
          "data": {
            "text/plain": [
              "['tok2vec', 'tagger', 'parser', 'attribute_ruler', 'lemmatizer', 'ner']"
            ]
          },
          "metadata": {},
          "execution_count": 2
        }
      ],
      "source": [
        "# python -m spacy download en_core_web_sm\n",
        "# Run above cammand on cmd to download spacy pre trained English model\n",
        "nlp = spacy.load(\"en_core_web_sm\")\n",
        "nlp.pipe_names"
      ]
    },
    {
      "cell_type": "code",
      "execution_count": 3,
      "id": "78792341-04ef-4554-a7d5-3ba43b267bc0",
      "metadata": {
        "colab": {
          "base_uri": "https://localhost:8080/"
        },
        "id": "78792341-04ef-4554-a7d5-3ba43b267bc0",
        "outputId": "81e2d554-343c-4fb2-9f51-8580c0bd0384"
      },
      "outputs": [
        {
          "output_type": "stream",
          "name": "stdout",
          "text": [
            "Tesla Inc  |  ORG  |  Companies, agencies, institutions, etc.\n",
            "$45 billion  |  MONEY  |  Monetary values, including unit\n"
          ]
        }
      ],
      "source": [
        "doc = nlp(\"Tesla Inc is going to acquire twitter for $45 billion\")\n",
        "for ent in doc.ents:\n",
        "    print(ent.text, \" | \", ent.label_, \" | \", spacy.explain(ent.label_))"
      ]
    },
    {
      "cell_type": "code",
      "execution_count": 4,
      "id": "9f320a33-dd74-4bc3-8044-d0137d4121d7",
      "metadata": {
        "colab": {
          "base_uri": "https://localhost:8080/"
        },
        "id": "9f320a33-dd74-4bc3-8044-d0137d4121d7",
        "outputId": "438fc0bc-7afb-4a4a-e1f3-3530d0618ea1"
      },
      "outputs": [
        {
          "output_type": "stream",
          "name": "stdout",
          "text": [
            "Tesla Inc  |  ORG  |  Companies, agencies, institutions, etc.\n",
            "Twitter Inc  |  ORG  |  Companies, agencies, institutions, etc.\n",
            "$45 billion  |  MONEY  |  Monetary values, including unit\n"
          ]
        }
      ],
      "source": [
        "doc = nlp(\"Tesla Inc is going to acquire Twitter Inc for $45 billion\")\n",
        "for ent in doc.ents:\n",
        "    print(ent.text, \" | \", ent.label_, \" | \", spacy.explain(ent.label_))"
      ]
    },
    {
      "cell_type": "code",
      "execution_count": 5,
      "id": "12e0eb51-a5ef-43af-88be-9c63fd6354ef",
      "metadata": {
        "colab": {
          "base_uri": "https://localhost:8080/",
          "height": 52
        },
        "id": "12e0eb51-a5ef-43af-88be-9c63fd6354ef",
        "outputId": "525d02a6-a3b1-4ade-de75-c523753ec748"
      },
      "outputs": [
        {
          "output_type": "display_data",
          "data": {
            "text/plain": [
              "<IPython.core.display.HTML object>"
            ],
            "text/html": [
              "<span class=\"tex2jax_ignore\"><div class=\"entities\" style=\"line-height: 2.5; direction: ltr\">\n",
              "<mark class=\"entity\" style=\"background: #7aecec; padding: 0.45em 0.6em; margin: 0 0.25em; line-height: 1; border-radius: 0.35em;\">\n",
              "    Tesla Inc\n",
              "    <span style=\"font-size: 0.8em; font-weight: bold; line-height: 1; border-radius: 0.35em; vertical-align: middle; margin-left: 0.5rem\">ORG</span>\n",
              "</mark>\n",
              " is going to acquire \n",
              "<mark class=\"entity\" style=\"background: #7aecec; padding: 0.45em 0.6em; margin: 0 0.25em; line-height: 1; border-radius: 0.35em;\">\n",
              "    Twitter Inc\n",
              "    <span style=\"font-size: 0.8em; font-weight: bold; line-height: 1; border-radius: 0.35em; vertical-align: middle; margin-left: 0.5rem\">ORG</span>\n",
              "</mark>\n",
              " for \n",
              "<mark class=\"entity\" style=\"background: #e4e7d2; padding: 0.45em 0.6em; margin: 0 0.25em; line-height: 1; border-radius: 0.35em;\">\n",
              "    $45 billion\n",
              "    <span style=\"font-size: 0.8em; font-weight: bold; line-height: 1; border-radius: 0.35em; vertical-align: middle; margin-left: 0.5rem\">MONEY</span>\n",
              "</mark>\n",
              "</div></span>"
            ]
          },
          "metadata": {}
        }
      ],
      "source": [
        "from spacy import displacy\n",
        "displacy.render(doc, style=\"ent\")"
      ]
    },
    {
      "cell_type": "code",
      "execution_count": null,
      "id": "dd843fd9-aab6-4fbe-9066-2ce53b19ff79",
      "metadata": {
        "id": "dd843fd9-aab6-4fbe-9066-2ce53b19ff79",
        "outputId": "2cd76707-2fe4-49b1-c266-8cb35504fd25"
      },
      "outputs": [
        {
          "data": {
            "text/plain": [
              "['CARDINAL',\n",
              " 'DATE',\n",
              " 'EVENT',\n",
              " 'FAC',\n",
              " 'GPE',\n",
              " 'LANGUAGE',\n",
              " 'LAW',\n",
              " 'LOC',\n",
              " 'MONEY',\n",
              " 'NORP',\n",
              " 'ORDINAL',\n",
              " 'ORG',\n",
              " 'PERCENT',\n",
              " 'PERSON',\n",
              " 'PRODUCT',\n",
              " 'QUANTITY',\n",
              " 'TIME',\n",
              " 'WORK_OF_ART']"
            ]
          },
          "execution_count": 9,
          "metadata": {},
          "output_type": "execute_result"
        }
      ],
      "source": [
        "nlp.pipe_labels['ner']  # print all entity supported by spacy"
      ]
    },
    {
      "cell_type": "code",
      "execution_count": null,
      "id": "922aa216-a054-4ab0-b70d-1b191958f487",
      "metadata": {
        "id": "922aa216-a054-4ab0-b70d-1b191958f487",
        "outputId": "cea14f28-dbaa-4955-95cf-4c79907bdd24"
      },
      "outputs": [
        {
          "name": "stdout",
          "output_type": "stream",
          "text": [
            "Michael Bloomberg | PERSON | People, including fictional\n",
            "Bloomberg Inc | ORG | Companies, agencies, institutions, etc.\n",
            "1982 | DATE | Absolute or relative dates or periods\n"
          ]
        }
      ],
      "source": [
        "doc = nlp(\"Michael Bloomberg founded Bloomberg Inc in 1982\")\n",
        "for ent in doc.ents:\n",
        "    print(ent.text, \"|\", ent.label_, \"|\", spacy.explain(ent.label_))"
      ]
    },
    {
      "cell_type": "code",
      "execution_count": null,
      "id": "5d3c7b1d-96d0-4e06-8d0c-395fda405517",
      "metadata": {
        "id": "5d3c7b1d-96d0-4e06-8d0c-395fda405517",
        "outputId": "d1410f95-90bf-4644-c5ae-41e1ea79a66c"
      },
      "outputs": [
        {
          "name": "stdout",
          "output_type": "stream",
          "text": [
            "Tesla  |  ORG\n",
            "Twitter  |  PRODUCT\n",
            "$45 billion  |  MONEY\n"
          ]
        }
      ],
      "source": [
        "# Setting Custom Entity , customing Twitter an Org from product & Tesla to Name\n",
        "doc = nlp(\"Tesla is going to acquire Twitter for $45 billion\")\n",
        "for ent in doc.ents:\n",
        "    print(ent.text, \" | \", ent.label_)"
      ]
    },
    {
      "cell_type": "code",
      "execution_count": null,
      "id": "cb5a9a33-b2a3-4b15-ae8e-ce856be343ce",
      "metadata": {
        "id": "cb5a9a33-b2a3-4b15-ae8e-ce856be343ce"
      },
      "outputs": [],
      "source": [
        "from spacy.tokens import Span\n",
        "\n",
        "s1 = Span(doc, 0, 1, label=\"PERSON\")\n",
        "s2 = Span(doc, 5, 6, label=\"ORG\")\n",
        "\n",
        "doc.set_ents([s1, s2], default=\"unmodified\")"
      ]
    },
    {
      "cell_type": "code",
      "execution_count": null,
      "id": "c782bc6b-9a09-42d8-a608-2b3670940526",
      "metadata": {
        "id": "c782bc6b-9a09-42d8-a608-2b3670940526",
        "outputId": "4b2018d3-1dbc-41d9-f10a-581b51c2763b"
      },
      "outputs": [
        {
          "name": "stdout",
          "output_type": "stream",
          "text": [
            "Tesla  |  PERSON\n",
            "Twitter  |  ORG\n",
            "$45 billion  |  MONEY\n"
          ]
        }
      ],
      "source": [
        "for ent in doc.ents:\n",
        "    print(ent.text, \" | \", ent.label_)"
      ]
    },
    {
      "cell_type": "code",
      "execution_count": null,
      "id": "8ef937f2-e8ff-4467-9b1b-7273c6d49a3d",
      "metadata": {
        "id": "8ef937f2-e8ff-4467-9b1b-7273c6d49a3d"
      },
      "outputs": [],
      "source": []
    }
  ],
  "metadata": {
    "kernelspec": {
      "display_name": "Python 3 (ipykernel)",
      "language": "python",
      "name": "python3"
    },
    "language_info": {
      "codemirror_mode": {
        "name": "ipython",
        "version": 3
      },
      "file_extension": ".py",
      "mimetype": "text/x-python",
      "name": "python",
      "nbconvert_exporter": "python",
      "pygments_lexer": "ipython3",
      "version": "3.12.4"
    },
    "colab": {
      "provenance": [],
      "include_colab_link": true
    }
  },
  "nbformat": 4,
  "nbformat_minor": 5
}